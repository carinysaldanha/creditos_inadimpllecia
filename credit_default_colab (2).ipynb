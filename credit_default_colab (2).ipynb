{
  "cells": [
    {
      "cell_type": "markdown",
      "id": "1e4dfbd1",
      "metadata": {
        "id": "1e4dfbd1"
      },
      "source": [
        "# Previsão de Inadimplência de Crédito 📉\n",
        "Este notebook realiza análise exploratória, modelagem e avaliação de modelos para prever inadimplência."
      ]
    },
    {
      "cell_type": "code",
      "execution_count": null,
      "id": "16151ef0",
      "metadata": {
        "id": "16151ef0"
      },
      "outputs": [],
      "source": [
        "import pandas as pd\n",
        "import numpy as np\n",
        "import matplotlib.pyplot as plt\n",
        "import seaborn as sns\n",
        "from sklearn.preprocessing import StandardScaler, LabelEncoder\n",
        "from sklearn.model_selection import train_test_split\n",
        "from sklearn.linear_model import LogisticRegression\n",
        "from sklearn.ensemble import RandomForestClassifier\n",
        "from sklearn.metrics import classification_report, confusion_matrix, roc_auc_score\n",
        "from sklearn.datasets import make_classification\n"
      ]
    },
    {
      "cell_type": "markdown",
      "id": "44047793",
      "metadata": {
        "id": "44047793"
      },
      "source": [
        "## 1. Carregamento dos Dados"
      ]
    },
    {
      "cell_type": "code",
      "execution_count": null,
      "id": "1bed8c7c",
      "metadata": {
        "id": "1bed8c7c",
        "collapsed": true
      },
      "outputs": [],
      "source": [
        "import pandas as pd\n",
        "\n",
        "# Ler CSV e ajustar colunas (mesmo esquema)\n",
        "with open('/content/drive/MyDrive/UCI_Credit_Card.csv', 'r') as f:\n",
        "    header = f.readline().strip().replace('\"', '')\n",
        "colunas = header.split(',')\n",
        "\n",
        "df = pd.read_csv('/content/drive/MyDrive/UCI_Credit_Card.csv', sep=',', header=None, skiprows=1)\n",
        "df.columns = colunas\n",
        "df = df.rename(columns={'default.payment.next.month': 'default'})\n",
        "\n",
        "# Selecionar as colunas que você quer:\n",
        "# idade, saldo bancário, histórico de crédito (ex: PAY_0, PAY_2, PAY_3...), default\n",
        "colunas_interesse = ['IDADE', 'LIMIT_BAL', 'PAY_0', 'PAY_2', 'PAY_3', 'PAY_4', 'PAY_5', 'PAY_6', 'default']\n",
        "\n",
        "tabela_principal = df[colunas_interesse]\n",
        "\n",
        "# Mostrar as primeiras linhas\n",
        "print(\"Tabela com idade, saldo, histórico de crédito e default:\")\n",
        "display(tabela_principal.head(10))"
      ]
    },
    {
      "cell_type": "markdown",
      "source": [
        "PREPARAÇAO DE DADOS"
      ],
      "metadata": {
        "id": "gU63xdHAvsPv"
      },
      "id": "gU63xdHAvsPv"
    },
    {
      "cell_type": "markdown",
      "id": "0081d687",
      "metadata": {
        "id": "0081d687"
      },
      "source": [
        "## 4. Análise Exploratória"
      ]
    },
    {
      "cell_type": "code",
      "execution_count": null,
      "id": "0cfe544f",
      "metadata": {
        "id": "0cfe544f"
      },
      "outputs": [],
      "source": [
        "sns.pairplot(df, hue='default')\n",
        "plt.show()\n",
        "\n",
        "plt.figure(figsize=(10, 8))\n",
        "sns.heatmap(df.corr(), annot=True, cmap='coolwarm')\n",
        "plt.title(\"Mapa de Correlação\")\n",
        "plt.show()\n"
      ]
    },
    {
      "cell_type": "markdown",
      "id": "5160e5e0",
      "metadata": {
        "id": "5160e5e0"
      },
      "source": [
        "## 5. Pré-processamento"
      ]
    },
    {
      "cell_type": "code",
      "execution_count": null,
      "id": "680dc1b6",
      "metadata": {
        "id": "680dc1b6"
      },
      "outputs": [],
      "source": [
        "X = df.drop(\"default\", axis=1)\n",
        "y = df[\"default\"]\n",
        "\n",
        "scaler = StandardScaler()\n",
        "X_scaled = scaler.fit_transform(X)\n",
        "\n",
        "X_train, X_test, y_train, y_test = train_test_split(X_scaled, y, test_size=0.3, random_state=42)\n"
      ]
    },
    {
      "cell_type": "markdown",
      "id": "a3a9c386",
      "metadata": {
        "id": "a3a9c386"
      },
      "source": [
        "## 6. Modelagem e Avaliação dos Modelos"
      ]
    },
    {
      "cell_type": "code",
      "source": [
        "from sklearn.linear_model import LogisticRegression\n",
        "from sklearn.ensemble import RandomForestClassifier\n",
        "from sklearn.metrics import confusion_matrix, classification_report, roc_auc_score, accuracy_score\n",
        "\n",
        "log_model = LogisticRegression(C=10, max_iter=500, random_state=42)\n",
        "log_model.fit(X_train, y_train)\n",
        "\n",
        "rf_model = RandomForestClassifier(n_estimators=200, random_state=42)\n",
        "rf_model.fit(X_train, y_train)\n",
        "\n",
        "def avaliar_modelo(nome, modelo):\n",
        "    pred = modelo.predict(X_test)\n",
        "    auc = roc_auc_score(y_test, pred)\n",
        "    acc = accuracy_score(y_test, pred)\n",
        "\n",
        "    print(f\"\\n📌 Modelo: {nome}\")\n",
        "    print(confusion_matrix(y_test, pred))\n",
        "    print(classification_report(y_test, pred))\n",
        "    print(f\"Acurácia: {acc * 100:.2f}%\")\n",
        "    print(f\"AUC: {auc * 100:.2f}%\")\n",
        "\n",
        "avaliar_modelo(\"Regressão Logística\", log_model)\n",
        "avaliar_modelo(\"Random Forest\", rf_model)"
      ],
      "metadata": {
        "id": "HtmBRjaUn_k4"
      },
      "id": "HtmBRjaUn_k4",
      "execution_count": null,
      "outputs": []
    }
  ],
  "metadata": {
    "colab": {
      "private_outputs": true,
      "provenance": [],
      "cell_execution_strategy": "setup"
    },
    "language_info": {
      "name": "python"
    },
    "kernelspec": {
      "name": "python3",
      "display_name": "Python 3"
    }
  },
  "nbformat": 4,
  "nbformat_minor": 5
}